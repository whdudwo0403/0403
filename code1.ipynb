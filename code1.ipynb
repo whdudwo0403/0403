{
 "cells": [
  {
   "cell_type": "code",
   "execution_count": 1,
   "id": "4b0be970",
   "metadata": {},
   "outputs": [],
   "source": [
    "h = [162, 173, 166, 165]"
   ]
  },
  {
   "cell_type": "code",
   "execution_count": 2,
   "id": "13fc699d",
   "metadata": {},
   "outputs": [
    {
     "data": {
      "text/plain": [
       "[162, 173, 166, 165]"
      ]
     },
     "execution_count": 2,
     "metadata": {},
     "output_type": "execute_result"
    }
   ],
   "source": [
    "h"
   ]
  },
  {
   "cell_type": "code",
   "execution_count": null,
   "id": "6ab3f477",
   "metadata": {},
   "outputs": [],
   "source": [
    "홀짝 1~50 분리\n",
    "리스트에 넣어서 합구하기"
   ]
  }
 ],
 "metadata": {
  "kernelspec": {
   "display_name": "Python 3 (ipykernel)",
   "language": "python",
   "name": "python3"
  },
  "language_info": {
   "codemirror_mode": {
    "name": "ipython",
    "version": 3
   },
   "file_extension": ".py",
   "mimetype": "text/x-python",
   "name": "python",
   "nbconvert_exporter": "python",
   "pygments_lexer": "ipython3",
   "version": "3.11.4"
  }
 },
 "nbformat": 4,
 "nbformat_minor": 5
}
